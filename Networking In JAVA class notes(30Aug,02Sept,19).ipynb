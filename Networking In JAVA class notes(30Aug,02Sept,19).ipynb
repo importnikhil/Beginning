{
 "cells": [
  {
   "cell_type": "markdown",
   "metadata": {},
   "source": [
    "<b>Inet Address</b>"
   ]
  },
  {
   "cell_type": "markdown",
   "metadata": {},
   "source": [
    "<ul>\n",
    "<li>Factory Methods</li>\n",
    "<li>Use to Encapsulate IP address and domain name</li>\n",
    "<li>Handles both IPv4 & IPv6</li>\n",
    "</ul>"
   ]
  },
  {
   "cell_type": "markdown",
   "metadata": {},
   "source": [
    "<h4>Instance Methods of Inet Address</h4><br>\n",
    " 1.Byte [] getAddress()<br>\n",
    " 2.String getHostAddress() <br>\n",
    " 3.String getHostName()<br>\n",
    " 4.String toString()<br><br>\n",
    " <b>TCP/IP Client</b><br>\n",
    "   Two Types of class for TCP/IP<br>\n",
    "   1.Socket<br>\n",
    "   2.ServerSocket<br>\n",
    "   Two Constructors to create Client Socket<br>\n",
    "   1.Socket(String hostname,int port)<br>\n",
    "   2.Socket(InetAddress,int port)<br>\n",
    "     \n"
   ]
  },
  {
   "cell_type": "markdown",
   "metadata": {},
   "source": [
    "<b>Instance method of Socket class</b><br>\n",
    "    1.InetAddress getInetAddress()<br>\n",
    "    2.int getPort()<br>\n",
    "    3.int getLocalPort()<br>\n",
    "    4.connect()<br>\n",
    "    5.isConnected(),isBound(),isClosed()<br>"
   ]
  },
  {
   "cell_type": "markdown",
   "metadata": {
    "collapsed": true
   },
   "source": [
    "<b>TCP/IP Server Socket</b>\n",
    "1. ServerSocket(int port)\n",
    "2. ServerSocket(int port,int maxQueue)\n",
    "3. ServerSocket(int port,int maxQueue,InetAddress,LocalAddress)\n",
    "\n",
    "=>accept()-->Blocking call,which will wait for client to initiate communication."
   ]
  },
  {
   "cell_type": "markdown",
   "metadata": {},
   "source": [
    "<b>Simple Client-Server Program</b><br>\n",
    "    Ex:To send some strings to a client.\n",
    "    \n",
    "import java.io.*;<br>\n",
    "import java.net.*;<br>\n",
    "class MyServer<br>\n",
    "{<br>\n",
    "    public static void main(String args[])throws Exception<br>\n",
    "    {<br>\n",
    "       Socket s=new Server Socket(\"localhost\",9000);<br>\n",
    "       InputStream is=s.getInputStream();<br>\n",
    "       BufferedReader br=new BufferedReader(new InputStream(is));<br>\n",
    "       OutputStream os=s.getOutputStream();<br>\n",
    "       PrintStream ps= new PrintStream(os);<br>\n",
    "       String str=\"Hello Client\";<br>\n",
    "       ps.println(str);<br>\n",
    "       ps.println(\"BYE\");<br>\n",
    "       ps.close();<br>\n",
    "       ss.close();<br>\n",
    "       s.close();<br>\n",
    "    }<br>\n",
    "}"
   ]
  },
  {
   "cell_type": "code",
   "execution_count": null,
   "metadata": {
    "collapsed": true
   },
   "outputs": [],
   "source": []
  }
 ],
 "metadata": {
  "kernelspec": {
   "display_name": "Python 2",
   "language": "python",
   "name": "python2"
  },
  "language_info": {
   "codemirror_mode": {
    "name": "ipython",
    "version": 2
   },
   "file_extension": ".py",
   "mimetype": "text/x-python",
   "name": "python",
   "nbconvert_exporter": "python",
   "pygments_lexer": "ipython2",
   "version": "2.7.13"
  }
 },
 "nbformat": 4,
 "nbformat_minor": 0
}
